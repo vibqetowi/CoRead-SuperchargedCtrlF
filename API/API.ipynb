{
 "cells": [
  {
   "cell_type": "code",
   "execution_count": 1,
   "metadata": {},
   "outputs": [],
   "source": [
    "# Install Dependencies\n",
    "!pip install -qU datasets pinecone-client sentence-transformers torch pyngrok"
   ]
  },
  {
   "cell_type": "code",
   "execution_count": 1,
   "metadata": {},
   "outputs": [],
   "source": [
    "# Import modules\n",
    "from flask import Flask, request, jsonify, make_response\n",
    "import threading\n",
    "from werkzeug.serving import make_server\n",
    "from pyngrok import ngrok\n",
    "\n",
    "# Create App\n",
    "app = Flask(__name__)\n",
    "\n",
    "# Running Flask in a separate thread\n",
    "def run_app():\n",
    "    global server\n",
    "    server = make_server('127.0.0.1', 5000, app)\n",
    "    server.serve_forever()\n",
    "\n"
   ]
  },
  {
   "cell_type": "code",
   "execution_count": 2,
   "metadata": {},
   "outputs": [],
   "source": [
    "# Define Routes\n",
    "@app.route(\"/\")\n",
    "def home():\n",
    "    return \"Api works!\"\n",
    "\n",
    "@app.route(\"/test_route\")\n",
    "def test_route():\n",
    "    return jsonify(\"test\")\n"
   ]
  },
  {
   "cell_type": "code",
   "execution_count": null,
   "metadata": {},
   "outputs": [],
   "source": [
    "#Connect to vector DB\n",
    "import pinecone\n",
    "from config import PINECONE_API_KEY\n",
    "\n",
    "pinecone.init(\n",
    "    api_key=PINECONE_API_KEY,\n",
    "    environment=\"gcp-starter\"\n",
    ")\n"
   ]
  },
  {
   "cell_type": "code",
   "execution_count": 6,
   "metadata": {},
   "outputs": [
    {
     "name": "stdout",
     "output_type": "stream",
     "text": [
      " * ngrok tunnel \"NgrokTunnel: \"https://02f1-37-120-244-62.ngrok-free.app\" -> \"http://localhost:5000\"\" -> \"http://127.0.0.1:5000\"\n"
     ]
    },
    {
     "name": "stderr",
     "output_type": "stream",
     "text": [
      "127.0.0.1 - - [30/Sep/2023 23:12:32] \"GET / HTTP/1.1\" 200 -\n",
      "127.0.0.1 - - [30/Sep/2023 23:12:32] \"\u001b[33mGET /favicon.ico HTTP/1.1\u001b[0m\" 404 -\n"
     ]
    }
   ],
   "source": [
    "# launch server\n",
    "flask_thread = threading.Thread(target=run_app)\n",
    "flask_thread.start()\n",
    "\n",
    "# Open an ngrok tunnel to the HTTP server\n",
    "public_url = ngrok.connect(5000)\n",
    "print(\" * ngrok tunnel \\\"{}\\\" -> \\\"http://127.0.0.1:5000\\\"\".format(public_url))\n"
   ]
  },
  {
   "cell_type": "code",
   "execution_count": 5,
   "metadata": {},
   "outputs": [],
   "source": [
    "# Shutdown Api\n",
    "if server:\n",
    "    server.shutdown()\n",
    "# Disconnect the ngrok tunnel\n",
    "ngrok.disconnect(public_url)\n"
   ]
  }
 ],
 "metadata": {
  "kernelspec": {
   "display_name": "rand",
   "language": "python",
   "name": "python3"
  },
  "language_info": {
   "codemirror_mode": {
    "name": "ipython",
    "version": 3
   },
   "file_extension": ".py",
   "mimetype": "text/x-python",
   "name": "python",
   "nbconvert_exporter": "python",
   "pygments_lexer": "ipython3",
   "version": "3.10.9"
  },
  "orig_nbformat": 4
 },
 "nbformat": 4,
 "nbformat_minor": 2
}
